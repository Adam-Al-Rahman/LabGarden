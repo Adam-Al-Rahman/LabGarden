{
 "cells": [
  {
   "cell_type": "markdown",
   "metadata": {},
   "source": [
    "# \"What is Neural Network?\"\n",
    "> \"A neural network is network of node or neuron or Perceptron.\"\n",
    "\n",
    "- badges: true\n",
    "- comments: true\n",
    "- categories: [machine_learning, tensorflow]\n",
    "- hide: false\n",
    "- author: Atiq Urrehaman\n",
    "- search_exclude: false"
   ]
  },
  {
   "cell_type": "markdown",
   "metadata": {},
   "source": [
    "> Inputs -> Numerical encoding -> Learn representation (patterns/feature/weights) -> Representation outputs -> Outputs"
   ]
  },
  {
   "cell_type": "markdown",
   "metadata": {},
   "source": [
    "### Anatomy of Neural Network\n",
    "\n",
    "- Input Layers\n",
    "- Hidden Layers\n",
    "- Output Layers\n",
    "\n",
    "### Type of Learning\n",
    "\n",
    "- Supervised Learning.\n",
    "- Semi-Supervised Learning.\n",
    "- Unsupervised Learning.\n",
    "- Transfer Learning.\n",
    "- Reinforcement Learning."
   ]
  },
  {
   "cell_type": "markdown",
   "metadata": {},
   "source": [
    "What is deep learning actually used for?\n",
    "\n",
    "Deep learning is for making neural network for neural network and making in the working.\n",
    "\n",
    "Deep Learning some use cases\n",
    "\n",
    "- Recommendation.\n",
    "- Translation. [Sequence to Sequence (seq2seq)].\n",
    "- Speech Recognition.\n",
    "- Computer Vision.\n",
    "- Natural Language Processing (NPL) [Classification | Regression].\n",
    "\n",
    "\n"
   ]
  },
  {
   "cell_type": "markdown",
   "metadata": {},
   "source": [
    "What is and why use Tensorflow?\n",
    "\n",
    "- End-to-End platform for machine learning\n",
    "- Write fast deep leaning code in Python/other accessible languages(able to run on a GPU/TPU)\n",
    "- Able to access many pre-built deep learning models(TensorFlow Hub)\n",
    "- Whole stack: preprocess data, model data, deploy model in your application.\n",
    "- Originally designed and used in house by Google ( now open - source)"
   ]
  },
  {
   "cell_type": "markdown",
   "metadata": {},
   "source": [
    "What is a Tensor?\n",
    "\n",
    "A tensor is an algebraic object that describes a multilinear relationship between sets of algebraic objects related to a vector space.\n",
    "\n"
   ]
  }
 ],
 "metadata": {
  "interpreter": {
   "hash": "63fd5069d213b44bf678585dea6b12cceca9941eaf7f819626cde1f2670de90d"
  },
  "kernelspec": {
   "display_name": "Python 3.9.7 64-bit",
   "language": "python",
   "name": "python3"
  },
  "language_info": {
   "codemirror_mode": {
    "name": "ipython",
    "version": 3
   },
   "file_extension": ".py",
   "mimetype": "text/x-python",
   "name": "python",
   "nbconvert_exporter": "python",
   "pygments_lexer": "ipython3",
   "version": "3.9.6"
  },
  "orig_nbformat": 4
 },
 "nbformat": 4,
 "nbformat_minor": 2
}
