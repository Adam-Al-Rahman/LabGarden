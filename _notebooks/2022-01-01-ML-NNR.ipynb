{
 "cells": [
  {
   "cell_type": "markdown",
   "metadata": {},
   "source": [
    "# \"Neural Network Regression\"\n",
    "\n",
    "- badges: true\n",
    "- comments: true\n",
    "- categories: [Neural-Network, Regression, machine_learning, tensorflow]\n",
    "- hide: false\n",
    "- author: Atiq Urrehaman\n",
    "- search_exclude: false"
   ]
  },
  {
   "cell_type": "markdown",
   "metadata": {},
   "source": [
    "## What is a Regression Problems?\n",
    "\n",
    "Example:\n",
    "\n",
    "- How much will this house sell for?\n",
    "- How many people will buy this app?\n",
    "- How much will my health insurance be?\n",
    "- How much should I save each week for fuel?\n"
   ]
  }
 ],
 "metadata": {
  "interpreter": {
   "hash": "6c93bb34ac1b285230e5606b1709cadf51d4453b2211c7400599b5fbb3bd28fe"
  },
  "kernelspec": {
   "display_name": "Python 3.9.6 64-bit ('Tensorflow_@': conda)",
   "language": "python",
   "name": "python3"
  },
  "language_info": {
   "name": "python",
   "version": "3.9.6"
  },
  "orig_nbformat": 4
 },
 "nbformat": 4,
 "nbformat_minor": 2
}
