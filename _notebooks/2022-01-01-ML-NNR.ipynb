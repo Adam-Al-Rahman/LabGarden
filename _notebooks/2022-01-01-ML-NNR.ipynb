{
 "cells": [
  {
   "cell_type": "markdown",
   "metadata": {},
   "source": [
    "# \"Neural Network Regression\"\n",
    "\n",
    "- badges: true\n",
    "- comments: true\n",
    "- categories: [Neural-Network, Regression, machine_learning, tensorflow]\n",
    "- hide: false\n",
    "- author: Atiq Urrehaman\n",
    "- search_exclude: false"
   ]
  },
  {
   "cell_type": "markdown",
   "metadata": {},
   "source": [
    "### What is a Regression Problems?\n",
    "\n",
    "Example:\n",
    "\n",
    "- How much will this house sell for?\n",
    "- How many people will buy this app?\n",
    "- How much will my health insurance be?\n",
    "- How much should I save each week for fuel?\n"
   ]
  },
  {
   "cell_type": "markdown",
   "metadata": {},
   "source": [
    "### Regression `Inputs` and `Outputs`\n",
    "\n",
    "Input --> Machine Learning Algorithms --> Outputs\n",
    "\n",
    "- Input and Output Shapes\n",
    "\n",
    "\n"
   ]
  },
  {
   "cell_type": "markdown",
   "metadata": {},
   "source": [
    "### Architecture of a Regression Model\n",
    "\n",
    "|Hyper-Parameter|Typical Value|\n",
    "|---|---|\n",
    "|Input Layer Shape|Same shapes as number of features|\n",
    "|Hidden Layer(s)|Problem specific, minimum=1, maximum=unlimited|\n",
    "|Neurons per hidden layer|Problem specific, generally 10 to 100|\n",
    "|Output layer shape|Same shape as desired"
   ]
  },
  {
   "cell_type": "code",
   "execution_count": 1,
   "metadata": {},
   "outputs": [],
   "source": [
    "# Import Tensorflow\n",
    "import tensorflow as tf"
   ]
  },
  {
   "cell_type": "code",
   "execution_count": 2,
   "metadata": {},
   "outputs": [
    {
     "data": {
      "image/png": "[encoded data removed]",
      "text/plain": [
       "<Figure size 432x288 with 1 Axes>"
      ]
     },
     "metadata": {
      "needs_background": "light"
     },
     "output_type": "display_data"
    }
   ],
   "source": [
    "## Creating data to view\n",
    "import numpy as np\n",
    "import matplotlib.pyplot as plt\n",
    "\n",
    "# Create Features\n",
    "X = np.array([-7.0, -4.0, -1.0, 2.0, 5.0, 8.0, 11.0, 14.0])\n",
    "\n",
    "# Create labels\n",
    "y = np.array([3.0, 6.0, 9.0, 12.0, 15.0, 18.0, 21.0, 24.0])\n",
    "\n",
    "# Visualize it\n",
    "plt.scatter(X, y);"
   ]
  },
  {
   "cell_type": "code",
   "execution_count": 3,
   "metadata": {},
   "outputs": [
    {
     "data": {
      "text/plain": [
       "array([ True,  True,  True,  True,  True,  True,  True,  True])"
      ]
     },
     "execution_count": 3,
     "metadata": {},
     "output_type": "execute_result"
    }
   ],
   "source": [
    "y == X + 10"
   ]
  },
  {
   "cell_type": "code",
   "execution_count": 4,
   "metadata": {},
   "outputs": [
    {
     "data": {
      "text/plain": [
       "(<tf.Tensor: shape=(8,), dtype=float64, numpy=array([-7., -4., -1.,  2.,  5.,  8., 11., 14.])>,\n",
       " <tf.Tensor: shape=(8,), dtype=float64, numpy=array([ 3.,  6.,  9., 12., 15., 18., 21., 24.])>)"
      ]
     },
     "execution_count": 4,
     "metadata": {},
     "output_type": "execute_result"
    }
   ],
   "source": [
    "# Turn our NumPy array into tensors\n",
    "\n",
    "X = tf.constant(X)\n",
    "y = tf.constant(y)\n",
    "\n",
    "X, y"
   ]
  },
  {
   "cell_type": "code",
   "execution_count": 5,
   "metadata": {},
   "outputs": [],
   "source": [
    "input_shape = X[0].shape\n",
    "output_shape = y[0].shape"
   ]
  },
  {
   "cell_type": "code",
   "execution_count": 6,
   "metadata": {},
   "outputs": [
    {
     "data": {
      "text/plain": [
       "(TensorShape([]), TensorShape([]))"
      ]
     },
     "execution_count": 6,
     "metadata": {},
     "output_type": "execute_result"
    }
   ],
   "source": [
    "input_shape, output_shape"
   ]
  },
  {
   "cell_type": "code",
   "execution_count": 7,
   "metadata": {},
   "outputs": [
    {
     "data": {
      "text/plain": [
       "<matplotlib.collections.PathCollection at 0x2264245fbe0>"
      ]
     },
     "execution_count": 7,
     "metadata": {},
     "output_type": "execute_result"
    },
    {
     "data": {
      "image/png": "[encoded data removed]",
      "text/plain": [
       "<Figure size 432x288 with 1 Axes>"
      ]
     },
     "metadata": {
      "needs_background": "light"
     },
     "output_type": "display_data"
    }
   ],
   "source": [
    "plt.scatter(X, y)"
   ]
  },
  {
   "cell_type": "markdown",
   "metadata": {},
   "source": [
    "### Step in modelling\n",
    "\n",
    "1. `Creating a Model` - Define the input and output laysers, as well as the hidden layers of a deep learning model.\n",
    "\n",
    "2. `Compiling a model` - Define the loss function (in other words, the function which tells our model how wrong it is) and the optimizer (tells our model how to improve the patterns its learning) and evaluation metrics (what we cna use to interpret the performance of our model).\n",
    "3. `Fitting a model` - Letting the model try to find patterns between X & y (features and labels)."
   ]
  },
  {
   "cell_type": "code",
   "execution_count": 8,
   "metadata": {},
   "outputs": [
    {
     "name": "stdout",
     "output_type": "stream",
     "text": [
      "Epoch 1/50\n",
      "1/1 [==============================] - 2s 2s/step - loss: 11.5048 - mae: 11.5048\n",
      "Epoch 2/50\n",
      "1/1 [==============================] - 0s 9ms/step - loss: 11.5003 - mae: 11.5003\n",
      "Epoch 3/50\n",
      "1/1 [==============================] - 0s 13ms/step - loss: 11.4958 - mae: 11.4958\n",
      "Epoch 4/50\n",
      "1/1 [==============================] - 0s 10ms/step - loss: 11.4913 - mae: 11.4913\n",
      "Epoch 5/50\n",
      "1/1 [==============================] - 0s 9ms/step - loss: 11.4868 - mae: 11.4868\n",
      "Epoch 6/50\n",
      "1/1 [==============================] - 0s 10ms/step - loss: 11.4823 - mae: 11.4823\n",
      "Epoch 7/50\n",
      "1/1 [==============================] - 0s 7ms/step - loss: 11.4778 - mae: 11.4778\n",
      "Epoch 8/50\n",
      "1/1 [==============================] - 0s 7ms/step - loss: 11.4733 - mae: 11.4733\n",
      "Epoch 9/50\n",
      "1/1 [==============================] - 0s 9ms/step - loss: 11.4688 - mae: 11.4688\n",
      "Epoch 10/50\n",
      "1/1 [==============================] - 0s 7ms/step - loss: 11.4643 - mae: 11.4643\n",
      "Epoch 11/50\n",
      "1/1 [==============================] - 0s 8ms/step - loss: 11.4598 - mae: 11.4598\n",
      "Epoch 12/50\n",
      "1/1 [==============================] - 0s 8ms/step - loss: 11.4553 - mae: 11.4553\n",
      "Epoch 13/50\n",
      "1/1 [==============================] - 0s 8ms/step - loss: 11.4508 - mae: 11.4508\n",
      "Epoch 14/50\n",
      "1/1 [==============================] - 0s 8ms/step - loss: 11.4463 - mae: 11.4463\n",
      "Epoch 15/50\n",
      "1/1 [==============================] - 0s 9ms/step - loss: 11.4418 - mae: 11.4418\n",
      "Epoch 16/50\n",
      "1/1 [==============================] - 0s 9ms/step - loss: 11.4373 - mae: 11.4373\n",
      "Epoch 17/50\n",
      "1/1 [==============================] - 0s 9ms/step - loss: 11.4328 - mae: 11.4328\n",
      "Epoch 18/50\n",
      "1/1 [==============================] - 0s 8ms/step - loss: 11.4283 - mae: 11.4283\n",
      "Epoch 19/50\n",
      "1/1 [==============================] - 0s 9ms/step - loss: 11.4238 - mae: 11.4238\n",
      "Epoch 20/50\n",
      "1/1 [==============================] - 0s 10ms/step - loss: 11.4193 - mae: 11.4193\n",
      "Epoch 21/50\n",
      "1/1 [==============================] - 0s 8ms/step - loss: 11.4148 - mae: 11.4148\n",
      "Epoch 22/50\n",
      "1/1 [==============================] - 0s 11ms/step - loss: 11.4103 - mae: 11.4103\n",
      "Epoch 23/50\n",
      "1/1 [==============================] - 0s 10ms/step - loss: 11.4058 - mae: 11.4058\n",
      "Epoch 24/50\n",
      "1/1 [==============================] - 0s 11ms/step - loss: 11.4013 - mae: 11.4013\n",
      "Epoch 25/50\n",
      "1/1 [==============================] - 0s 8ms/step - loss: 11.3968 - mae: 11.3968\n",
      "Epoch 26/50\n",
      "1/1 [==============================] - 0s 8ms/step - loss: 11.3923 - mae: 11.3923\n",
      "Epoch 27/50\n",
      "1/1 [==============================] - 0s 8ms/step - loss: 11.3878 - mae: 11.3878\n",
      "Epoch 28/50\n",
      "1/1 [==============================] - 0s 8ms/step - loss: 11.3833 - mae: 11.3833\n",
      "Epoch 29/50\n",
      "1/1 [==============================] - 0s 7ms/step - loss: 11.3788 - mae: 11.3788\n",
      "Epoch 30/50\n",
      "1/1 [==============================] - 0s 6ms/step - loss: 11.3743 - mae: 11.3743\n",
      "Epoch 31/50\n",
      "1/1 [==============================] - 0s 7ms/step - loss: 11.3698 - mae: 11.3698\n",
      "Epoch 32/50\n",
      "1/1 [==============================] - 0s 7ms/step - loss: 11.3653 - mae: 11.3653\n",
      "Epoch 33/50\n",
      "1/1 [==============================] - 0s 7ms/step - loss: 11.3608 - mae: 11.3608\n",
      "Epoch 34/50\n",
      "1/1 [==============================] - 0s 6ms/step - loss: 11.3563 - mae: 11.3563\n",
      "Epoch 35/50\n",
      "1/1 [==============================] - 0s 7ms/step - loss: 11.3518 - mae: 11.3518\n",
      "Epoch 36/50\n",
      "1/1 [==============================] - 0s 7ms/step - loss: 11.3473 - mae: 11.3473\n",
      "Epoch 37/50\n",
      "1/1 [==============================] - 0s 8ms/step - loss: 11.3428 - mae: 11.3428\n",
      "Epoch 38/50\n",
      "1/1 [==============================] - 0s 7ms/step - loss: 11.3383 - mae: 11.3383\n",
      "Epoch 39/50\n",
      "1/1 [==============================] - 0s 7ms/step - loss: 11.3338 - mae: 11.3338\n",
      "Epoch 40/50\n",
      "1/1 [==============================] - 0s 6ms/step - loss: 11.3293 - mae: 11.3293\n",
      "Epoch 41/50\n",
      "1/1 [==============================] - 0s 7ms/step - loss: 11.3248 - mae: 11.3248\n",
      "Epoch 42/50\n",
      "1/1 [==============================] - 0s 8ms/step - loss: 11.3203 - mae: 11.3203\n",
      "Epoch 43/50\n",
      "1/1 [==============================] - 0s 7ms/step - loss: 11.3158 - mae: 11.3158\n",
      "Epoch 44/50\n",
      "1/1 [==============================] - 0s 8ms/step - loss: 11.3113 - mae: 11.3113\n",
      "Epoch 45/50\n",
      "1/1 [==============================] - 0s 8ms/step - loss: 11.3068 - mae: 11.3068\n",
      "Epoch 46/50\n",
      "1/1 [==============================] - 0s 8ms/step - loss: 11.3023 - mae: 11.3023\n",
      "Epoch 47/50\n",
      "1/1 [==============================] - 0s 9ms/step - loss: 11.2978 - mae: 11.2978\n",
      "Epoch 48/50\n",
      "1/1 [==============================] - 0s 8ms/step - loss: 11.2933 - mae: 11.2933\n",
      "Epoch 49/50\n",
      "1/1 [==============================] - 0s 8ms/step - loss: 11.2888 - mae: 11.2888\n",
      "Epoch 50/50\n",
      "1/1 [==============================] - 0s 8ms/step - loss: 11.2843 - mae: 11.2843\n"
     ]
    },
    {
     "data": {
      "text/plain": [
       "<keras.callbacks.History at 0x22778ccc3d0>"
      ]
     },
     "execution_count": 8,
     "metadata": {},
     "output_type": "execute_result"
    }
   ],
   "source": [
    "# Set random seed\n",
    "tf.random.set_seed(42)\n",
    "\n",
    "\n",
    "# 1. Create a model using the Sequential API\n",
    "\n",
    "model = tf.keras.Sequential(\n",
    "    [\n",
    "        tf.keras.layers.Dense(1),\n",
    "    ]\n",
    ")\n",
    "\n",
    "# 2. Compile the model\n",
    "model.compile(\n",
    "    loss=tf.keras.losses.mae,  # Mean absolute error\n",
    "    optimizer=tf.keras.optimizers.Adam(learning_rate=0.001),\n",
    "    metrics=[\"mae\"]\n",
    ")\n",
    "\n",
    "# 3. Fit the model\n",
    "model.fit(X, y, epochs=50)"
   ]
  },
  {
   "cell_type": "code",
   "execution_count": 9,
   "metadata": {},
   "outputs": [
    {
     "data": {
      "text/plain": [
       "(<tf.Tensor: shape=(8,), dtype=float64, numpy=array([-7., -4., -1.,  2.,  5.,  8., 11., 14.])>,\n",
       " <tf.Tensor: shape=(8,), dtype=float64, numpy=array([ 3.,  6.,  9., 12., 15., 18., 21., 24.])>)"
      ]
     },
     "execution_count": 9,
     "metadata": {},
     "output_type": "execute_result"
    }
   ],
   "source": [
    "# Check out X and y\n",
    "\n",
    "X, y"
   ]
  },
  {
   "cell_type": "code",
   "execution_count": 10,
   "metadata": {},
   "outputs": [
    {
     "data": {
      "text/plain": [
       "array([[10.591008]], dtype=float32)"
      ]
     },
     "execution_count": 10,
     "metadata": {},
     "output_type": "execute_result"
    }
   ],
   "source": [
    "# Try and make a prediction using our model\n",
    "\n",
    "y_pred=model.predict([17.0])\n",
    "y_pred"
   ]
  },
  {
   "cell_type": "code",
   "execution_count": null,
   "metadata": {},
   "outputs": [],
   "source": []
  }
 ],
 "metadata": {
  "interpreter": {
   "hash": "6c93bb34ac1b285230e5606b1709cadf51d4453b2211c7400599b5fbb3bd28fe"
  },
  "kernelspec": {
   "display_name": "Python 3.9.6 64-bit ('Tensorflow_@': conda)",
   "language": "python",
   "name": "python3"
  },
  "language_info": {
   "codemirror_mode": {
    "name": "ipython",
    "version": 3
   },
   "file_extension": ".py",
   "mimetype": "text/x-python",
   "name": "python",
   "nbconvert_exporter": "python",
   "pygments_lexer": "ipython3",
   "version": "3.9.6"
  },
  "orig_nbformat": 4
 },
 "nbformat": 4,
 "nbformat_minor": 2
}
