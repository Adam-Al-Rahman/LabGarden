{
 "cells": [
  {
   "cell_type": "markdown",
   "metadata": {},
   "source": [
    "# \"What is Machine Learning?\"\n",
    "> \"Ability to learn without explicitly being programmed.\"\n",
    "\n",
    "- badges: true\n",
    "- comments: true\n",
    "- categories: [machine-learning]\n",
    "- hide: false\n",
    "- search_exclude: false\n",
    "- metadata_key1: metadata_value1\n",
    "- metadata_key2: metadata_value2"
   ]
  },
  {
   "cell_type": "markdown",
   "id": "c66928c8",
   "metadata": {},
   "source": [
    "Machine Learning and Deep Learning are subset of Artificial Intelligence.\n",
    "\n",
    "#### **<u>Deep Learning</u>** :\n",
    "\n",
    "Extract patterns from data using neural networks.\n",
    "\n",
    "**Aim of Deep Learning**:\n",
    "\n",
    "To build neural networks that automatically discover patterns for feature detection.\n",
    "\n",
    "\n",
    "#### **<u>Machine Learning Another Definition</u>**:\n",
    "\n",
    "It is a way to convert things(data) into numbers and find patterns in those number.\n",
    "\n",
    "\n",
    "**Aim of Machine Learning**:\n",
    "\n",
    "To make machine learn through data so that they can solve problems.\n",
    "\n",
    "#### **<u>Artificial Intelligence</u>**:\n",
    "\n",
    "Any technique that enables computer to mimic human behavior.\n",
    "\n",
    "**Aim of Artificial Intelligence**:\n",
    "\n",
    "To build machines which are capable of thinking like human or doing human tasks.\n",
    "\n",
    "### Structure of AI\n",
    "\n",
    "<img src=\"../_site/Images/Images_101/taxonomy_of_ai_ds.png\" />\n",
    "\n",
    "<span style=\"color:pink\">Source</span> : <a href=\"https://miro.medium.com/max/1050/1*24Hj2PgyawR20kJBj8NU0g.png\" target=\"_blank\">The Taxonomy of Artificial Intelligence and Data Science</a>"
   ]
  },
  {
   "cell_type": "markdown",
   "metadata": {},
   "source": [
    "#### Data -> Machine learning alogrithm(model) -> Patterns\n",
    "#### <span style=\"color:yellow\">Narrow AI</span> : The machine AI which is good at specific task only one thing.\n",
    "#### <span style=\"color:yellow\">General AI</span> : The AI machine which good at many task."
   ]
  },
  {
   "cell_type": "markdown",
   "metadata": {},
   "source": [
    "## How did we get Here?\n",
    "\n",
    "- In early stage to collect data we used `Spreadsheets`.\n",
    "    - CSV\n",
    "    - Excel\n",
    "\n",
    "As the data grow the new technologies appeard\n",
    "\n",
    "- Relational  DataBase(DB)\n",
    "    - MySQL (Query language to to `CRUD` operation)\n",
    "    - CRUD : Create Read Update Delete.\n",
    "\n",
    "And as the data grow more and more. In 2000 we got the fancy term called <span style=\"color:green;\"> Big data</span>\n",
    "\n",
    "- Big data\n",
    "    - MongoDB (NoSQL)\n",
    "  \n",
    "Now we have collect alot of data and to utilize that in Machine learning as data source.\n",
    "\n",
    "## Steps in a full Machine learning project\n",
    "<img src=\"../_site/Images/Images_101/stepin_machine_learning_projects.png\" width=\"800\" height=\"700\" style=\"background-color:white;\"/>\n",
    "\n",
    "\n",
    "> <p style=\"color:green\">Data Science : To utilize the huge data.</p>"
   ]
  },
  {
   "cell_type": "markdown",
   "metadata": {},
   "source": [
    "## Types of Machine Learning :\n",
    "\n",
    "- Supervised Learning :\n",
    "    - Classification.\n",
    "        Classifying is this(relative) a apple or mango.\n",
    "    - Regression.\n",
    "        like predicting stock prices.\n",
    "\n",
    "- Semi-Supervised Learning :\n",
    "  - This include the character of both supervised and unsupervised learning.\n",
    "\n",
    "- Unsupervised Learning :\n",
    "    - Clustering.\n",
    "        Making group of the similar data and then predict.\n",
    "    - Assiciation Rule Learning.\n",
    "\n",
    "- Reinforcement Learning\n",
    "    - Skill acquisiton.\n",
    "    - Real time learning."
   ]
  }
 ],
 "metadata": {
  "interpreter": {
   "hash": "6c93bb34ac1b285230e5606b1709cadf51d4453b2211c7400599b5fbb3bd28fe"
  },
  "kernelspec": {
   "display_name": "Python 3.9.6 64-bit ('Tensorflow_@': conda)",
   "name": "python3"
  },
  "language_info": {
   "codemirror_mode": {
    "name": "ipython",
    "version": 3
   },
   "file_extension": ".py",
   "mimetype": "text/x-python",
   "name": "python",
   "nbconvert_exporter": "python",
   "pygments_lexer": "ipython3",
   "version": "3.9.6"
  }
 },
 "nbformat": 4,
 "nbformat_minor": 5
}
