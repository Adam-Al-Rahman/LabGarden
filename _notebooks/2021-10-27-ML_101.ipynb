{
 "cells": [
  {
   "cell_type": "markdown",
   "metadata": {},
   "source": [
    "# \"Machine Learning\"\n",
    "> \"Learning to create a machine learning model\"\n",
    "\n",
    "- toc: false\n",
    "- branch: master\n",
    "- badges: true\n",
    "- comments: true\n",
    "- categories: [fastpages, jupyter]\n",
    "- image: images/some_folder/your_image.png\n",
    "- hide: false\n",
    "- search_exclude: true\n",
    "- metadata_key1: metadata_value1\n",
    "- metadata_key2: metadata_value2"
   ]
  },
  {
   "cell_type": "markdown",
   "metadata": {},
   "source": [
    "# <span style=\"color:green\"><u>What is Machine Learning?</u></span>\n",
    "### It is a way to convert things(data) into numbers and find patterns in those number.\n",
    "### Data -> Machine learning alogrithm(model) -> Patterns\n",
    "### <u style=\"color:yellow\">Narrow AI</u> : The machine AI which is good at specifc task only one thing.\n",
    "### <u style=\"color:yellow\">General AI</u> : The AI machine which good at many task."
   ]
  },
  {
   "cell_type": "markdown",
   "metadata": {},
   "source": [
    "# How did we get Here?\n",
    "\n",
    "- In early stage to collect data we used `Spreadsheets`.\n",
    "    - CSV\n",
    "    - Excel\n",
    "\n",
    "As the data grow the new technologies appeard\n",
    "\n",
    "- Relational  DataBase(DB)\n",
    "    - MySQL (Query language to to `CRUD` operation)\n",
    "\n",
    "And as the data grow more and more. In 2000 we got the fancy term called <span style=\"color:green;\"> Big data</span>\n",
    "\n",
    "- Big data\n",
    "    - MongoDB (NoSQL)\n",
    "  \n",
    "## Now we have collect alot of data and to utilize that in Machine learning as data source.\n",
    "\n",
    "<h1 style=\"color:yellow\">Steps in a full Machine learning project</h1>\n",
    "\n",
    "> <span style=\"color:green\">Data Science : To utilize the huge data.</span>"
   ]
  },
  {
   "cell_type": "markdown",
   "metadata": {},
   "source": [
    "# Types of Machine Learning :\n",
    "\n",
    "- Supervised Learning :\n",
    "    - Classification.\n",
    "        Classifying is this(relative) a apple or mango.\n",
    "    - Regression.\n",
    "        like predicting stock prices.\n",
    "- Unsupervised Learning :\n",
    "    - Clustering.\n",
    "        Making group of the similar data and then predict.\n",
    "    - Assiciation Rule Learning.\n",
    "        \n",
    "- Reinforcement Learning\n",
    "    - Skill acquisiton.\n",
    "    - Real time learning."
   ]
  }
 ],
 "metadata": {
  "interpreter": {
   "hash": "6c93bb34ac1b285230e5606b1709cadf51d4453b2211c7400599b5fbb3bd28fe"
  },
  "kernelspec": {
   "display_name": "Python 3.9.6 64-bit ('Tensorflow_@': conda)",
   "name": "python3"
  },
  "language_info": {
   "codemirror_mode": {
    "name": "ipython",
    "version": 3
   },
   "file_extension": ".py",
   "mimetype": "text/x-python",
   "name": "python",
   "nbconvert_exporter": "python",
   "pygments_lexer": "ipython3",
   "version": "3.9.6"
  }
 },
 "nbformat": 4,
 "nbformat_minor": 5
}
