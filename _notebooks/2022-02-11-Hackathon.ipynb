{
 "cells": [
  {
   "cell_type": "markdown",
   "metadata": {},
   "source": [
    "<h1 align=\"center\" style=\"color:#ff79c6\">Hackathon - 6.0</h1>\n",
    "\n",
    "<h5 align=\"center\">Category - A:  AI - Natural Disaster Prediction</h5>"
   ]
  },
  {
   "cell_type": "code",
   "execution_count": null,
   "metadata": {},
   "outputs": [],
   "source": []
  }
 ],
 "metadata": {
  "interpreter": {
   "hash": "6c93bb34ac1b285230e5606b1709cadf51d4453b2211c7400599b5fbb3bd28fe"
  },
  "kernelspec": {
   "display_name": "Python 3.9.6 ('Tensorflow_@')",
   "language": "python",
   "name": "python3"
  },
  "language_info": {
   "name": "python",
   "version": "3.9.6"
  },
  "orig_nbformat": 4
 },
 "nbformat": 4,
 "nbformat_minor": 2
}
