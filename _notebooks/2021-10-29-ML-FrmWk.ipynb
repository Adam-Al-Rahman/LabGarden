{
 "cells": [
  {
   "cell_type": "markdown",
   "id": "60759bc7-a665-4b21-b698-cb2b21cee725",
   "metadata": {},
   "source": [
    "# The framework comprises six steps\n",
    "<img src=\"../images/Images_ML-Frmwk/stepin_machine_learning_projects.png\" width=\"800\" height=\"700\" style=\"background-color:white;\"/>"
   ]
  },
  {
   "cell_type": "markdown",
   "id": "0aaf99ae-4de9-4be8-8e1b-c95712f9ad01",
   "metadata": {},
   "source": [
    "# Steps in Data Modelling: \n",
    "\n",
    "1. Problem Definition: \"What problem are we trying to solve?\"\n",
    "    - Supervised.\n",
    "    - Unsupervised.\n",
    "    - Classification.\n",
    "    - Regression.\n",
    "   \n",
    "2. Data: \"What data do we have?\"\n",
    "    - Structured.\n",
    "    - Unstructured.\n",
    "\n",
    "3. Evalution: \"What defines succes for us?\"\n",
    "\n",
    "4. Features: \"What do we already know about the data?\"\n",
    "\n",
    "5. Modelling: \"Based on our problem and data, what model should we use?\"\n",
    "\n",
    "6. Experimentation: \"How could we improve?/what else can we try?\""
   ]
  },
  {
   "cell_type": "markdown",
   "id": "60bd7d71-fcff-4624-936a-789c3aeadd88",
   "metadata": {},
   "source": [
    "# 1. <span style=\"color:yellow\">Types of Machine Learning problems</span>\n",
    "\n",
    "## Supervised Learning:\n",
    "It is called Supervise Learning, because here we have `data` and `labels`. Here a machine learning algorithms tries to use the data to predict a `label`.\n",
    "\n",
    "If it guesses the label wrong, the algorithms corrects itself and tries again. This active correction why is called `Supervise`\n",
    "\n",
    "## Main type of Supervised Learning problems:\n",
    "\n",
    "1. Classification:\n",
    "    - \"Is this example one thing or another?\"\n",
    "    - Binary classification = two options\n",
    "    - Multi-class classification = more than two options\n",
    "    \n",
    "2. Regression:\n",
    "    - \"How much will this house sell for?\"\n",
    "    - \"How many people will buy this app?\""
   ]
  },
  {
   "cell_type": "markdown",
   "id": "bbcde30e-1e0c-48c2-a3d5-5442870cf29b",
   "metadata": {},
   "source": [
    "# Unsupervised Learning\n",
    "### It has data but no labels\n",
    "\n",
    "## Main types of Unsupervised Learning problems:\n",
    "\n",
    "1. Cluster:\n",
    "    - Grouping the labels."
   ]
  },
  {
   "cell_type": "markdown",
   "id": "8fd37a4e-49cc-4fd0-b8ea-7e342f6ee717",
   "metadata": {},
   "source": [
    "# Transfer Learning\n",
    "\n",
    "### Use the pre-build model for similar project to predict and customize it to make it precise that aren't cover in pre-build model."
   ]
  },
  {
   "cell_type": "markdown",
   "id": "49df3d7c-bd0f-4534-bb21-c75f5777b39c",
   "metadata": {},
   "source": [
    "# Reinforcment Learning\n",
    "\n",
    "- +1 if the model do correct.\n",
    "- -1 if the model do wrong."
   ]
  },
  {
   "cell_type": "markdown",
   "id": "a35094a8-d5fb-4805-a176-a4746cf1dae7",
   "metadata": {},
   "source": [
    "# 2. Data"
   ]
  },
  {
   "cell_type": "markdown",
   "id": "bf42bd19-53a4-4367-80dd-42b9a3aaa81e",
   "metadata": {},
   "source": [
    "## Types of Data\n",
    "\n",
    "1. Structured data : \n",
    "    - CSV (comma separated values)\n",
    "    - excel sheet\n",
    "    \n",
    "2. Unstructured data :\n",
    "    - Images.\n",
    "    - voices.\n",
    "    - Natural language processing.\n",
    "    \n",
    "- ### Static data :\n",
    "    Data that does not change over time.\n",
    "    eg : Csv,...\n",
    "\n",
    "- ### Streaming data : \n",
    "    Data that changes over time.\n",
    "    eg : stock, news,..."
   ]
  },
  {
   "cell_type": "markdown",
   "id": "f68ca096-cd82-4a38-9bc2-13bb2e6e4df9",
   "metadata": {},
   "source": [
    "# Workflow\n",
    "\n",
    "Static / streaming => jupyter-lab => Data_Analysis (pandas) => matplotlib/plotly => machine_learning_model (tensorflow / Scikit learn) => results"
   ]
  },
  {
   "cell_type": "markdown",
   "id": "f3018b9f-a1e8-40ad-9987-746e8c9f84c6",
   "metadata": {},
   "source": [
    "# 3. Evaluation : \"What defines success for us?\""
   ]
  },
  {
   "cell_type": "markdown",
   "id": "58ce6b1f-2b75-40b7-844e-0b56aafe6409",
   "metadata": {},
   "source": [
    "### Different types fo metrics\n",
    "\n",
    "|Classification|Regression|Recommendation|\n",
    "|--------------|---|---|\n",
    "|Accuracy| Mean absolute error (MAE) | precision at K|\n",
    "|Precision| Mean squared error (MSE) | |\n",
    "|Recall| Root mean squared error (RMSE)||\n",
    "\n"
   ]
  },
  {
   "cell_type": "markdown",
   "id": "329dde0f-5b7c-4533-a5ae-4629f98c9e39",
   "metadata": {},
   "source": [
    "# 4 Features in Data : What do we already know about the data?\n",
    "\n",
    "### Use Feature variable (weight, heart rate) to predict Target variable (Heart disease?)\n",
    "- Numerical Feature :\n",
    "    A number like body weigth\n",
    "    \n",
    "- Categorial features : \n",
    "    Like one in two (yes / no)\n",
    "    \n",
    "- Derived feature :\n",
    "    Look at the data and create new feature using the existing one.\n",
    "\n",
    "> <u style=\"color:yellow;font-size:16px;\">Feature Engineering</u>: Looking at different features of data and creating new ones/altering existing ones.\n",
    "\n",
    "---\n",
    "\n",
    "> <u style=\"color:yellow;font-size:16px;\">Feature Coverage</u>: How many samples have different features? Ideally, every sample has the same features.\n",
    "\n",
    "### What are features of your problems?\n",
    "---"
   ]
  },
  {
   "cell_type": "markdown",
   "id": "fd622c60-95b2-4a58-803a-6d2c14234777",
   "metadata": {},
   "source": [
    "# 5. Modelling :\n",
    "## I. Choosing and training a model. [Training data]\n",
    "## II. Tuning a model. [Validatin data]\n",
    "## III. Model comparison. [Test data]"
   ]
  },
  {
   "cell_type": "markdown",
   "id": "725ac844-4221-4f9b-8427-6fe8e4298b42",
   "metadata": {},
   "source": [
    "> <h1 style=\"color:#c890f7\">The most important concept in machine learning.</h1>(The training, validation and test sets <u>or</u> $\\boxed{3 sets}$)"
   ]
  },
  {
   "cell_type": "markdown",
   "id": "96ac4fd7-193b-4bc9-81c0-baa145554ff7",
   "metadata": {},
   "source": [
    "## <u>Split data into</u> : \n",
    "\n",
    "- Training [Train your model on this ] : 70-80%\n",
    "- Validation [Tune your model on this ] : 10-15%\n",
    "- Test [ Test and compare on this ] : 10-15%\n",
    "\n",
    "> All the split are different."
   ]
  },
  {
   "cell_type": "markdown",
   "id": "0ad19242-eebc-427b-9521-47357c117012",
   "metadata": {},
   "source": [
    "### When thing go wrong?\n",
    "#### When `Test` is revealed before the time."
   ]
  },
  {
   "cell_type": "markdown",
   "id": "697a6525-8d4a-4bf4-a775-fc5a9dfec95a",
   "metadata": {},
   "source": [
    "## Modelling : Picking the model"
   ]
  },
  {
   "cell_type": "markdown",
   "id": "85f98ee6-eb20-42de-897d-df7e459ec1c2",
   "metadata": {},
   "source": [
    "### Problem-1 => Model-1\n",
    "### Problem-2 => Model-2\n",
    "\n",
    "## Sturctured Data\n",
    "- CatBoost\n",
    "- dmlc XGBoost\n",
    "- Random Forest\n",
    "\n",
    "## Unstructured Data\n",
    "- Deep learning.\n",
    "- Transfer learning."
   ]
  },
  {
   "cell_type": "markdown",
   "id": "c5f145c8-4152-4a71-a454-d99e031714f2",
   "metadata": {},
   "source": [
    "## <u>Training a Model</u>\n",
    "### X(data): \n",
    "\n",
    "    - Weight\n",
    "    - Sex\n",
    "    - heart rate\n",
    "    - chest pain\n",
    "\n",
    "### y(label)\n",
    "\n",
    "    - Heart disease?\n",
    "    \n",
    "> Goal :  Minize time between experiments\n",
    "\n",
    "Experiment\n",
    "\n",
    "1. Input => Model-1 => Accurary | Training-Time | Prediction-Time"
   ]
  },
  {
   "cell_type": "markdown",
   "id": "8e5cf2f5-d4ec-4dee-94d4-b4fda9bf10fb",
   "metadata": {},
   "source": [
    "---\n",
    "## Thing to remember\n",
    "\n",
    "- Some models work better than other on different problems.\n",
    "- Don't be afraid to try things.\n",
    "- Start small and build up (add complexit) as you need."
   ]
  },
  {
   "cell_type": "markdown",
   "id": "fb0af6e9-e809-4c04-9519-9f986808b68e",
   "metadata": {},
   "source": [
    "# Modelling : Tuning"
   ]
  },
  {
   "cell_type": "markdown",
   "id": "61bcd670-67fb-4635-a684-2a0ef123d720",
   "metadata": {},
   "source": [
    "### Random Forest:\n",
    "    Allow to adjust number of tree.\n",
    "\n",
    "### Neural network:\n",
    "    Allow to adjust number of hidden layers.\n",
    "    "
   ]
  },
  {
   "cell_type": "markdown",
   "id": "9adf79a4-3636-441d-be70-a9db94359df9",
   "metadata": {},
   "source": [
    "### Things to remember:\n",
    "- Machine learning model have hyperparameters you can adjust.\n",
    "- A models first result aren't its last.\n",
    "- Tuning can take place on training or validation data sets."
   ]
  },
  {
   "cell_type": "markdown",
   "id": "7a9e7823-acf6-4542-9bbc-1f1adfd03a3e",
   "metadata": {},
   "source": [
    "# Modeling : comparison"
   ]
  },
  {
   "cell_type": "markdown",
   "id": "08641e3f-b56c-4eb1-bbda-32d121f2109b",
   "metadata": {},
   "source": [
    "### Testing a model\n",
    "\n",
    "#### <u>Right Way</u> :\n",
    "\n",
    "- Balanced [Goldilocks Zone]\n",
    "\n",
    "| Data Set | Performace |\n",
    "|---| ---|\n",
    "|Training | 98%|\n",
    "|Test| 96% |\n",
    "\n",
    "--- \n",
    "\n",
    "#### <u>Wrong Way</u> :\n",
    "\n",
    "- Underfitting [Potential]\n",
    "\n",
    "|Data Set| Performace|\n",
    "|---| ---|\n",
    "|Training| 64%|\n",
    "|Test| 47%|\n",
    "\n",
    "- Overfitting [Potential]\n",
    "\n",
    "|Data Set| Performace|\n",
    "|---| ---|\n",
    "|Training| 93%|\n",
    "|Test| 99%|\n",
    "\n",
    "<img src=\"../images/Images_ML-Frmwk/Overfitting&Underfitting.png\" />\n"
   ]
  },
  {
   "cell_type": "markdown",
   "id": "b0f0ca95-91b0-4d96-9949-003d54f4f013",
   "metadata": {},
   "source": [
    "## Overfitting and underfitting\n",
    "\n",
    "### Data Leakage :\n",
    "This happens when `Training data` leaks into `Test data`, Which make occurs of <span style=\"color:pink;font-size:18px\"> Overfitting </span>\n",
    "\n",
    "### Data Mismatch :\n",
    " This happen when `Training data` is different than `Test data`, Which lead to <span style=\"color:pink;font-size:18px\"> Underfitting </span>\n"
   ]
  },
  {
   "cell_type": "markdown",
   "id": "0dd22674-25bc-46a5-9e27-2ccf3ef21bb7",
   "metadata": {},
   "source": [
    "# Fixes for overfitting and underfitting\n",
    "\n",
    "### Underfitting :\n",
    "\n",
    "- Try a more advanced model.\n",
    "- Increase model hyperparameters.\n",
    "- Reduce amount of features.\n",
    "- Train longer.\n",
    "\n",
    "### Overfitting :\n",
    "\n",
    "- collect more data.\n",
    "- Try a less advanced model."
   ]
  },
  {
   "cell_type": "markdown",
   "id": "8adde692-45e7-44f0-a94e-bdef790efeb4",
   "metadata": {},
   "source": [
    "### Thing to remember\n",
    "- Want to avoid overfitting and underfitting (head towards generality)\n",
    "- keep the test set separate at all costs.\n",
    "- Compare apples to apples.\n",
    "- One best performance metric does not equal best model"
   ]
  },
  {
   "cell_type": "markdown",
   "id": "d24b886f-9f52-4801-a3dc-8a276fa23279",
   "metadata": {},
   "source": [
    "# Overfitting and Underfitting Definitions\n",
    "\n",
    "\n",
    "All experiments should be conducted on different portions of your data.\n",
    "\n",
    "Training data set — Use this set for model training, 70–80% of your data is the standard.\n",
    "\n",
    "Validation/development data set — Use this set for model hyperparameter tuning and experimentation evaluation, 10–15% of your data is the standard.\n",
    "\n",
    "Test data set — Use this set for model testing and comparison, 10–15% of your data is the standard.\n",
    "\n",
    "These amounts can fluctuate slightly, depending on your problem and the data you have.\n",
    "\n",
    "Poor performance on training data means the model hasn’t learned properly and is underfitting. Try a different model, improve the existing one through hyperparameter or collect more data.\n",
    "\n",
    "Great performance on the training data but poor performance on test data means your model doesn’t generalize well. Your model may be overfitting the training data. Try using a simpler model or making sure your the test data is of the same style your model is training on.\n",
    "\n",
    "Another form of overfitting can come in the form of better performance on test data than training data. This may mean your testing data is leaking into your training data (incorrect data splits) or you've spent too much time optimizing your model for the test set data. Ensure your training and test datasets are kept separate at all times and avoid optimizing a models performance on the test set (use the training and validation sets for model improvement).\n",
    "\n",
    "Poor performance once deployed (in the real world) means there’s a difference in what you trained and tested your model on and what is actually happening. Ensure the data you're using during experimentation matches up with the data you're using in production.\n",
    "\n",
    "Fullscreen\n"
   ]
  },
  {
   "cell_type": "markdown",
   "id": "f6eb467d-606d-40a8-a34b-fb28a1108a43",
   "metadata": {},
   "source": [
    "# Experimentation: \"What have tried/ what else can we try?\"\n",
    "### Doing experimentation with input hyperparameter, until hit the spot."
   ]
  },
  {
   "cell_type": "code",
   "execution_count": null,
   "id": "772ea837-c408-432f-82a1-fe22bd32bc0a",
   "metadata": {},
   "outputs": [],
   "source": []
  }
 ],
 "metadata": {
  "kernelspec": {
   "display_name": "Python 3",
   "language": "python",
   "name": "python3"
  },
  "language_info": {
   "codemirror_mode": {
    "name": "ipython",
    "version": 3
   },
   "file_extension": ".py",
   "mimetype": "text/x-python",
   "name": "python",
   "nbconvert_exporter": "python",
   "pygments_lexer": "ipython3",
   "version": "3.9.7"
  },
  "toc-showtags": false
 },
 "nbformat": 4,
 "nbformat_minor": 5
}
